{
 "cells": [
  {
   "cell_type": "code",
   "execution_count": null,
   "metadata": {},
   "outputs": [],
   "source": [
    "from selenium import webdriver\n",
    "from selenium.webdriver.chrome.options import Options\n",
    "from selenium.webdriver.chrome.service import Service\n",
    "\n",
    "# Path to Chrome's user data directory\n",
    "user_data_dir = r\"C:/Users/Ali Hassan/AppData/Local/Google/Chrome/User Data/Default\"  # Replace <YourUsername> with your actual username\n",
    "\n",
    "# Default profile name\n",
    "profile_name = \"Profile 2\"\n",
    "\n",
    "# Set up Chrome options\n",
    "chrome_options = Options()\n",
    "chrome_options.add_argument(f\"--user-data-dir={user_data_dir}\")  # Set user data directory\n",
    "chrome_options.add_argument(f\"--profile-directory={profile_name}\")  # Set profile directory\n",
    "\n",
    "# Path to ChromeDriver (ensure the version matches your installed Chrome browser)\n",
    "chromedriver_path = r\"C:/Users/Ali Hassan/Downloads/chromedriver-win64/chromedriver-win64/chromedriver.exe\"  # Replace with your actual path\n",
    "service = Service(chromedriver_path)\n",
    "# Launch Chrome with the default profile\n",
    "driver = webdriver.Chrome(service=service, options=chrome_options)\n",
    "\n",
    "# Open a website\n",
    "driver.get(\"https://www.cyberbackgroundchecks.com\")\n",
    "\n",
    "# Close the browser (optional)\n",
    "# driver.quit()\n"
   ]
  }
 ],
 "metadata": {
  "kernelspec": {
   "display_name": "aiscrape",
   "language": "python",
   "name": "python3"
  },
  "language_info": {
   "codemirror_mode": {
    "name": "ipython",
    "version": 3
   },
   "file_extension": ".py",
   "mimetype": "text/x-python",
   "name": "python",
   "nbconvert_exporter": "python",
   "pygments_lexer": "ipython3",
   "version": "3.8.19"
  }
 },
 "nbformat": 4,
 "nbformat_minor": 2
}
